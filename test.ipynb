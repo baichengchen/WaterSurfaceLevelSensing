{
 "cells": [
  {
   "cell_type": "code",
   "execution_count": 30,
   "metadata": {},
   "outputs": [],
   "source": [
    "import numpy as np\n",
    "from ifxAvian import Avian\n",
    "from ifxAvian.RadarTypes import DeviceConfig\n",
    "import time\n",
    "import matplotlib.pyplot as plt\n",
    "\n",
    "# using for bgt60tr13c\n"
   ]
  },
  {
   "cell_type": "code",
   "execution_count": 31,
   "metadata": {},
   "outputs": [
    {
     "name": "stdout",
     "output_type": "stream",
     "text": [
      "Radar SDK Version: 3.3.1\n"
     ]
    },
    {
     "data": {
      "text/plain": [
       "'\\n5.5ghz bandwidth\\n1 mhz adc sampling rate\\n512 samples per chirp\\n1 chirp per frame\\n400 frame per second\\n\\nrange resolution = c/2b = 0.027m = 2.7cm\\nmax range = 2.7cm * 512 / 2 =  6.912 m\\n\\n'"
      ]
     },
     "execution_count": 31,
     "metadata": {},
     "output_type": "execute_result"
    }
   ],
   "source": [
    "print(\"Radar SDK Version: \" + Avian.get_version())\n",
    "Avian.__file__\n",
    "\n",
    "fs = 400\n",
    "frame_time = 1/fs\n",
    "num_samples_per_chirp = 512\n",
    "\n",
    "device = Avian.Device()\n",
    "\n",
    "\n",
    "# set device config\n",
    "config = Avian.DeviceConfig(\n",
    "    sample_rate_Hz=1_000_000,       # ADC sample rate of 1MHZ\n",
    "    rx_mask=5,                      # activate RX1 and RX3\n",
    "    tx_mask=1,                      # activate TX1\n",
    "    if_gain_dB=33,                  # gain of 33dB\n",
    "    tx_power_level=31,              # TX power level of 31\n",
    "    start_frequency_Hz=58e9,        # start frequency of chirp: 58 Ghz\n",
    "    end_frequency_Hz=63.5e9,        # end frequency of chirp: 63.5 GHz\n",
    "    num_chirps_per_frame=1,         # 1 chirps per frame\n",
    "    # 512 samples per chirp # higher number = higher range resolution\n",
    "    num_samples_per_chirp=num_samples_per_chirp,\n",
    "    chirp_repetition_time_s=0.001,  # 1ms, as long as higher than num_samples_per_chirp * 1 us\n",
    "    frame_repetition_time_s=1/fs,   # 5ms, frame_Rate = 200Hz\n",
    "    hp_cutoff_Hz=80_000,            # 80kHz cutoff frequency for high-pass filter\n",
    "    aaf_cutoff_Hz=500_000,          # Anti-aliasinf cutoff frequency of 500kHz\n",
    "    mimo_mode='off'                 # MIMO disabled\n",
    ")\n",
    "# config.frame_repetition_time_s = 10000000\n",
    "\n",
    "\n",
    "\"\"\"\n",
    "5.5ghz bandwidth\n",
    "1 mhz adc sampling rate\n",
    "512 samples per chirp\n",
    "1 chirp per frame\n",
    "400 frame per second\n",
    "\n",
    "range resolution = c/2b = 0.027m = 2.7cm\n",
    "max range = 2.7cm * 512 / 2 =  6.912 m\n",
    "\n",
    "\"\"\""
   ]
  },
  {
   "cell_type": "code",
   "execution_count": null,
   "metadata": {},
   "outputs": [],
   "source": []
  },
  {
   "cell_type": "code",
   "execution_count": 42,
   "metadata": {},
   "outputs": [
    {
     "name": "stdout",
     "output_type": "stream",
     "text": [
      "(8000, 1, 512)\n",
      "(8000,)\n"
     ]
    }
   ],
   "source": [
    "device.set_config(config)\n",
    "ts = time.time()\n",
    "#currently sampling at around 10\n",
    "timestamps = []\n",
    "frameData = []\n",
    "\n",
    "time_in_sec_to_collect = 20*fs;\n",
    "\n",
    "for frame_number in range(time_in_sec_to_collect):\n",
    "    frame = device.get_next_frame()\n",
    "    #num_rx_antennas, num_chirps_per_frame, num_samples_per_chirp = np.shape(\n",
    "    #    frame)\n",
    "    mat = frame[0, :, :]\n",
    "    ts_now = time.time()-ts\n",
    "    # print(ts_now)\n",
    "    # print(np.shape(frame))\n",
    "    timestamps.append(ts_now)\n",
    "    frameData.append(mat)\n",
    "\n",
    "frameData = np.array(frameData)\n",
    "timestamps = np.array(timestamps)\n",
    "\n",
    "print(np.shape(frameData))\n",
    "print(np.shape(timestamps))"
   ]
  },
  {
   "cell_type": "code",
   "execution_count": 43,
   "metadata": {},
   "outputs": [
    {
     "name": "stdout",
     "output_type": "stream",
     "text": [
      "(8000, 1, 512)\n",
      "(8000,)\n",
      "()\n",
      "(8000, 512)\n"
     ]
    }
   ],
   "source": [
    "#path = \"F:\\\\UCSD\\\\Winter2023\\\\CSE237A\\\\FinalProj\\\\Github\\\\WaterSurfaceLevelSensing\\\\sampleData\\\\\"\n",
    "path = \"D:\\\\UCSD\\\\Winter2023\\\\CSE237A\\\\WaterSurfaceLevelSensing-main\\\\sampleData\\\\\"\n",
    "# path = \"C:\\\\Users\\\\baich\\\\Desktop\\\\02282023_mmwaveData\\\\\"\n",
    "fn = 'data_13.npz'\n",
    "np.savez(path+fn, frameData=frameData, timestamps=timestamps,fs=fs)\n",
    "\n",
    "#path = \"F:\\\\UCSD\\\\Winter2023\\\\CSE237A\\\\FinalProj\\\\Github\\\\WaterSurfaceLevelSensing\\\\sampleData\\\\\"\n",
    "# path = \"D:\\\\UCSD\\\\Winter2023\\\\CSE237A\\\\WaterSurfaceLevelSensing\\\\sampleData\\\\\"\n",
    "\n",
    "# fn = 'data_13.npz'\n",
    "outfile = path+fn\n",
    "npzfile = np.load(outfile)\n",
    "frameData = npzfile['frameData']\n",
    "timestamps = npzfile['timestamps']\n",
    "# fs = npzfile['fs']\n",
    "# fs = 400\n",
    "# (100, 128, 64) \n",
    "# 100 frames, 128 chirps per frame, 64 adc samples per chirp\n",
    "print(np.shape(frameData))\n",
    "print(np.shape(timestamps))\n",
    "print(np.shape(fs))\n",
    "\n",
    "frameData = np.squeeze(frameData)\n",
    "# frameData2 = np.sum(frameData, axis=1)\n",
    "# print(np.shape(frameData2))\n",
    "\n",
    "#mean normaliation to zero doppler nulling\n",
    "frameData = frameData - np.mean(frameData, axis=0, keepdims=True)\n",
    "print(np.shape(frameData))\n",
    "fs=400"
   ]
  },
  {
   "cell_type": "code",
   "execution_count": 64,
   "metadata": {},
   "outputs": [
    {
     "name": "stdout",
     "output_type": "stream",
     "text": [
      "(8000, 256)\n",
      "(30, 8000)\n",
      "(30, 8000)\n"
     ]
    },
    {
     "data": {
      "text/plain": [
       "Text(0.5, 0, 'Time (s)')"
      ]
     },
     "execution_count": 64,
     "metadata": {},
     "output_type": "execute_result"
    },
    {
     "data": {
      "image/png": "[encoded data removed]",
      "text/plain": [
       "<Figure size 640x480 with 2 Axes>"
      ]
     },
     "metadata": {},
     "output_type": "display_data"
    }
   ],
   "source": [
    "def movingVar(data,N):\n",
    "    var = []\n",
    "    for i in range(np.shape(data)[0]):\n",
    "        var.append( np.var(data[i:i+N]))\n",
    "    var = np.array(var)\n",
    "    return var\n",
    "def movingMean(data,N):\n",
    "    var = []\n",
    "    for i in range(np.shape(data)[0]):\n",
    "        var.append( np.average(data[i:i+N]))\n",
    "    var = np.array(var)\n",
    "    return var\n",
    "\n",
    "data = np.fft.fft(frameData, axis=1)\n",
    "data = data[:,:int(data.shape[1]/2)]\n",
    "print(np.shape(data))\n",
    "\n",
    "# amp = np.abs(data[:,0:30]).T\n",
    "# phase = np.angle(data[:,0:30]).T\n",
    "partData = data[:,0:30].T\n",
    "amp = np.abs(partData)\n",
    "phase = np.angle(partData)\n",
    "print(np.shape(amp))\n",
    "print(np.shape(phase))\n",
    "\n",
    "plt.figure();\n",
    "# plt.subplot(2,1,1)\n",
    "# plt.imshow(amp, cmap=plt.cm.jet, aspect=\"auto\")\n",
    "\n",
    "# print(np.max(np.max(amp)))\n",
    "\n",
    "# plt.figure()\n",
    "# plt.imshow(phase, cmap=plt.cm.jet, aspect=\"auto\")\n",
    "\n",
    "\n",
    "xT = np.linspace(0, int(np.shape(amp)[1]*frame_time),np.shape(amp)[1])\n",
    "\n",
    "plt.subplot(2,1,1)\n",
    "plt.plot(xT,amp[8,:])\n",
    "plt.subplot(2,1,2)\n",
    "rst = movingVar(amp[8,:],20)\n",
    "rst = rst-np.min(rst)\n",
    "rst = rst/np.max(rst)\n",
    "rst = movingMean(rst,400)\n",
    "plt.plot(xT,rst)\n",
    "plt.xlabel(\"Time (s)\")"
   ]
  },
  {
   "cell_type": "code",
   "execution_count": 57,
   "metadata": {},
   "outputs": [
    {
     "name": "stdout",
     "output_type": "stream",
     "text": [
      "20.0\n"
     ]
    }
   ],
   "source": []
  }
 ],
 "metadata": {
  "kernelspec": {
   "display_name": "bgtradar",
   "language": "python",
   "name": "python3"
  },
  "language_info": {
   "codemirror_mode": {
    "name": "ipython",
    "version": 3
   },
   "file_extension": ".py",
   "mimetype": "text/x-python",
   "name": "python",
   "nbconvert_exporter": "python",
   "pygments_lexer": "ipython3",
   "version": "3.8.16"
  },
  "orig_nbformat": 4,
  "vscode": {
   "interpreter": {
    "hash": "6edc065435203244c2a5f7e382f7c634ff85728cce11aa88b64375ea8549337c"
   }
  }
 },
 "nbformat": 4,
 "nbformat_minor": 2
}
